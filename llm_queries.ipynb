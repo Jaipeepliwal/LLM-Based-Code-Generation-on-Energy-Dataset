{
 "cells": [
  {
   "metadata": {
    "ExecuteTime": {
     "end_time": "2025-06-09T11:11:46.273602Z",
     "start_time": "2025-06-09T11:11:45.237680Z"
    }
   },
   "cell_type": "code",
   "source": [
    "import pandas as pd\n",
    "from dotenv import load_dotenv\n",
    "load_dotenv()\n",
    "from langchain_groq import ChatGroq"
   ],
   "id": "14c6d7c7d33e7148",
   "outputs": [],
   "execution_count": 2
  },
  {
   "cell_type": "code",
   "id": "initial_id",
   "metadata": {
    "collapsed": true,
    "ExecuteTime": {
     "end_time": "2025-06-09T11:11:53.823754Z",
     "start_time": "2025-06-09T11:11:46.856174Z"
    }
   },
   "source": [
    "df = pd.read_csv('household_power_consumption.txt',\n",
    "             \tsep=';',\n",
    "             \tparse_dates={'datetime': ['Date', 'Time']},\n",
    "             \tinfer_datetime_format=True,\n",
    "             \tna_values=['?'],\n",
    "             \tlow_memory=False)\n",
    "\n",
    "df = df.dropna()\n",
    "df['Global_active_power'] = df['Global_active_power'].astype(float)\n",
    "df = df.set_index('datetime')"
   ],
   "outputs": [
    {
     "name": "stderr",
     "output_type": "stream",
     "text": [
      "/tmp/ipykernel_4557/39740622.py:1: FutureWarning: Support for nested sequences for 'parse_dates' in pd.read_csv is deprecated. Combine the desired columns with pd.to_datetime after parsing instead.\n",
      "  df = pd.read_csv('household_power_consumption.txt',\n",
      "/tmp/ipykernel_4557/39740622.py:1: FutureWarning: The argument 'infer_datetime_format' is deprecated and will be removed in a future version. A strict version of it is now the default, see https://pandas.pydata.org/pdeps/0004-consistent-to-datetime-parsing.html. You can safely remove this argument.\n",
      "  df = pd.read_csv('household_power_consumption.txt',\n",
      "/tmp/ipykernel_4557/39740622.py:1: UserWarning: Parsing dates in %d/%m/%Y %H:%M:%S format when dayfirst=False (the default) was specified. Pass `dayfirst=True` or specify a format to silence this warning.\n",
      "  df = pd.read_csv('household_power_consumption.txt',\n"
     ]
    }
   ],
   "execution_count": 3
  },
  {
   "metadata": {
    "ExecuteTime": {
     "end_time": "2025-06-09T11:12:00.059450Z",
     "start_time": "2025-06-09T11:11:54.932745Z"
    }
   },
   "cell_type": "code",
   "source": "df['month_year'] = df.index.to_period('M').strftime('%B %Y')",
   "id": "fd0dccbbccd71017",
   "outputs": [],
   "execution_count": 4
  },
  {
   "metadata": {
    "ExecuteTime": {
     "end_time": "2025-06-09T11:12:01.559422Z",
     "start_time": "2025-06-09T11:12:01.525321Z"
    }
   },
   "cell_type": "code",
   "source": "df.head()",
   "id": "65b11aea05c4e975",
   "outputs": [
    {
     "data": {
      "text/plain": [
       "                     Global_active_power  Global_reactive_power  Voltage  \\\n",
       "datetime                                                                   \n",
       "2006-12-16 17:24:00                4.216                  0.418   234.84   \n",
       "2006-12-16 17:25:00                5.360                  0.436   233.63   \n",
       "2006-12-16 17:26:00                5.374                  0.498   233.29   \n",
       "2006-12-16 17:27:00                5.388                  0.502   233.74   \n",
       "2006-12-16 17:28:00                3.666                  0.528   235.68   \n",
       "\n",
       "                     Global_intensity  Sub_metering_1  Sub_metering_2  \\\n",
       "datetime                                                                \n",
       "2006-12-16 17:24:00              18.4             0.0             1.0   \n",
       "2006-12-16 17:25:00              23.0             0.0             1.0   \n",
       "2006-12-16 17:26:00              23.0             0.0             2.0   \n",
       "2006-12-16 17:27:00              23.0             0.0             1.0   \n",
       "2006-12-16 17:28:00              15.8             0.0             1.0   \n",
       "\n",
       "                     Sub_metering_3     month_year  \n",
       "datetime                                            \n",
       "2006-12-16 17:24:00            17.0  December 2006  \n",
       "2006-12-16 17:25:00            16.0  December 2006  \n",
       "2006-12-16 17:26:00            17.0  December 2006  \n",
       "2006-12-16 17:27:00            17.0  December 2006  \n",
       "2006-12-16 17:28:00            17.0  December 2006  "
      ],
      "text/html": [
       "<div>\n",
       "<style scoped>\n",
       "    .dataframe tbody tr th:only-of-type {\n",
       "        vertical-align: middle;\n",
       "    }\n",
       "\n",
       "    .dataframe tbody tr th {\n",
       "        vertical-align: top;\n",
       "    }\n",
       "\n",
       "    .dataframe thead th {\n",
       "        text-align: right;\n",
       "    }\n",
       "</style>\n",
       "<table border=\"1\" class=\"dataframe\">\n",
       "  <thead>\n",
       "    <tr style=\"text-align: right;\">\n",
       "      <th></th>\n",
       "      <th>Global_active_power</th>\n",
       "      <th>Global_reactive_power</th>\n",
       "      <th>Voltage</th>\n",
       "      <th>Global_intensity</th>\n",
       "      <th>Sub_metering_1</th>\n",
       "      <th>Sub_metering_2</th>\n",
       "      <th>Sub_metering_3</th>\n",
       "      <th>month_year</th>\n",
       "    </tr>\n",
       "    <tr>\n",
       "      <th>datetime</th>\n",
       "      <th></th>\n",
       "      <th></th>\n",
       "      <th></th>\n",
       "      <th></th>\n",
       "      <th></th>\n",
       "      <th></th>\n",
       "      <th></th>\n",
       "      <th></th>\n",
       "    </tr>\n",
       "  </thead>\n",
       "  <tbody>\n",
       "    <tr>\n",
       "      <th>2006-12-16 17:24:00</th>\n",
       "      <td>4.216</td>\n",
       "      <td>0.418</td>\n",
       "      <td>234.84</td>\n",
       "      <td>18.4</td>\n",
       "      <td>0.0</td>\n",
       "      <td>1.0</td>\n",
       "      <td>17.0</td>\n",
       "      <td>December 2006</td>\n",
       "    </tr>\n",
       "    <tr>\n",
       "      <th>2006-12-16 17:25:00</th>\n",
       "      <td>5.360</td>\n",
       "      <td>0.436</td>\n",
       "      <td>233.63</td>\n",
       "      <td>23.0</td>\n",
       "      <td>0.0</td>\n",
       "      <td>1.0</td>\n",
       "      <td>16.0</td>\n",
       "      <td>December 2006</td>\n",
       "    </tr>\n",
       "    <tr>\n",
       "      <th>2006-12-16 17:26:00</th>\n",
       "      <td>5.374</td>\n",
       "      <td>0.498</td>\n",
       "      <td>233.29</td>\n",
       "      <td>23.0</td>\n",
       "      <td>0.0</td>\n",
       "      <td>2.0</td>\n",
       "      <td>17.0</td>\n",
       "      <td>December 2006</td>\n",
       "    </tr>\n",
       "    <tr>\n",
       "      <th>2006-12-16 17:27:00</th>\n",
       "      <td>5.388</td>\n",
       "      <td>0.502</td>\n",
       "      <td>233.74</td>\n",
       "      <td>23.0</td>\n",
       "      <td>0.0</td>\n",
       "      <td>1.0</td>\n",
       "      <td>17.0</td>\n",
       "      <td>December 2006</td>\n",
       "    </tr>\n",
       "    <tr>\n",
       "      <th>2006-12-16 17:28:00</th>\n",
       "      <td>3.666</td>\n",
       "      <td>0.528</td>\n",
       "      <td>235.68</td>\n",
       "      <td>15.8</td>\n",
       "      <td>0.0</td>\n",
       "      <td>1.0</td>\n",
       "      <td>17.0</td>\n",
       "      <td>December 2006</td>\n",
       "    </tr>\n",
       "  </tbody>\n",
       "</table>\n",
       "</div>"
      ]
     },
     "execution_count": 5,
     "metadata": {},
     "output_type": "execute_result"
    }
   ],
   "execution_count": 5
  },
  {
   "metadata": {
    "ExecuteTime": {
     "end_time": "2025-06-09T11:12:02.708238Z",
     "start_time": "2025-06-09T11:12:02.546779Z"
    }
   },
   "cell_type": "code",
   "source": [
    "llm = ChatGroq(\n",
    "    model=\"llama-3.1-8b-instant\",\n",
    "    temperature=1.0,\n",
    "    max_retries=2,\n",
    ")"
   ],
   "id": "730b72ef2b2bff55",
   "outputs": [],
   "execution_count": 6
  },
  {
   "metadata": {},
   "cell_type": "markdown",
   "source": "#### 1. What was the average active power consumption in March 2007?",
   "id": "f09f84cbc5b0b936"
  },
  {
   "metadata": {
    "ExecuteTime": {
     "end_time": "2025-06-09T11:14:22.989133Z",
     "start_time": "2025-06-09T11:14:22.277092Z"
    }
   },
   "cell_type": "code",
   "source": [
    "prompt = (\n",
    "    \"Given a DataFrame `df` that contains a datetime index and a column named 'Global_active_power', \"\n",
    "    \"calculate the average Global_active_power in March 2007.\"\n",
    "    \"What was the average active power consumption in March 2007?\"\n",
    ")\n",
    "\n",
    "response = llm.invoke(prompt)\n",
    "print(\"Generated Code:\\n\", response.content)"
   ],
   "id": "4220cfe52827f7af",
   "outputs": [
    {
     "name": "stdout",
     "output_type": "stream",
     "text": [
      "Generated Code:\n",
      " ```python\n",
      "# Assuming df is the DataFrame containing the datetime index and 'Global_active_power' column\n",
      "\n",
      "# First, we need to ensure the datetime index is of datetime type\n",
      "df.index = pd.to_datetime(df.index)\n",
      "\n",
      "# Then, we select rows in March 2007\n",
      "march_2007 = df[df.index.year == 2007 & df.index.month == 3]\n",
      "\n",
      "# Finally, we calculate the average Global_active_power in March 2007\n",
      "if not march_2007.empty:\n",
      "    avg_power = march_2007['Global_active_power'].mean()\n",
      "    print(f'The average active power consumption in March 2007 was {avg_power} kW.')\n",
      "else:\n",
      "    print('No data available for March 2007.')\n",
      "```\n",
      "\n",
      "This script first converts the datetime index to pandas' datetime type. Then, it filters the DataFrame to include only rows in March 2007 by checking for rows where the year is 2007 and the month is 3. Finally, it calculates the average of the 'Global_active_power' column in the filtered DataFrame. \n",
      "\n",
      "Please note that this script assumes that your DataFrame does not contain missing or NaN values in the 'Global_active_power' column. If it does, you might want to add a line to handle this:\n",
      "\n",
      "```python\n",
      "avg_power = march_2007['Global_active_power'].dropna().mean()\n",
      "```\n",
      "\n",
      "This will exclude any rows with missing or NaN values in the 'Global_active_power' column from the calculation.\n"
     ]
    }
   ],
   "execution_count": 13
  },
  {
   "metadata": {
    "ExecuteTime": {
     "end_time": "2025-06-09T11:16:31.018208Z",
     "start_time": "2025-06-09T11:16:30.859362Z"
    }
   },
   "cell_type": "code",
   "source": [
    "\n",
    "df.index = pd.to_datetime(df.index)\n",
    "\n",
    "# Then, we select rows in March 2007\n",
    "march_2007 = df[(df.index.year == 2007) & (df.index.month == 3)]\n",
    "\n",
    "# Finally, we calculate the average Global_active_power in March 2007\n",
    "if not march_2007.empty:\n",
    "    avg_power = march_2007['Global_active_power'].mean()\n",
    "    print(f'The average active power consumption in March 2007 was {avg_power} kW.')\n",
    "else:\n",
    "    print('No data available for March 2007.')\n",
    "\n",
    "avg_power = march_2007['Global_active_power'].dropna().mean()\n",
    "\n"
   ],
   "id": "42e79b2e55031ba1",
   "outputs": [
    {
     "name": "stdout",
     "output_type": "stream",
     "text": [
      "The average active power consumption in March 2007 was 1.3186270301754073 kW.\n"
     ]
    }
   ],
   "execution_count": 17
  },
  {
   "metadata": {},
   "cell_type": "markdown",
   "source": "#### 2. What hour of the day had the highest power usage on Christmas 2006?",
   "id": "b4674c61cfbbde69"
  },
  {
   "metadata": {
    "ExecuteTime": {
     "end_time": "2025-06-09T11:25:51.194616Z",
     "start_time": "2025-06-09T11:25:50.427607Z"
    }
   },
   "cell_type": "code",
   "source": [
    "prompt = (\n",
    "    \"Given a DataFrame `df` that contains a datetime index and a column named 'Global_active_power', \"\n",
    "    \"What hour of the day had the highest power usage on Christmas 2006?\"\n",
    ")\n",
    "\n",
    "response = llm.invoke(prompt)\n",
    "print(\"Generated Code:\\n\", response.content)"
   ],
   "id": "ff3ea77fab4b07f6",
   "outputs": [
    {
     "name": "stdout",
     "output_type": "stream",
     "text": [
      "Generated Code:\n",
      " You can achieve this by using the following code. This code assumes that the DataFrame `df` has a datetime index and the column 'Global_active_power'.\n",
      "\n",
      "```python\n",
      "import pandas as pd\n",
      "import numpy as np\n",
      "\n",
      "# Get the data for Christmas 2006\n",
      "christmas_2006 = df.between_time('06:00', '23:59', included=True).between_time('23:00', '23:59', included=False).index\n",
      "data_2006_christmas = df.loc[christmas_2006]\n",
      "\n",
      "# Group by hour and calculate the mean power usage\n",
      "hourly_usage_2006_christmas = data_2006_christmas.groupby([pd.Grouper(freq='H')]).mean()\n",
      "\n",
      "# Find the hour with the highest power usage\n",
      "hour_with_highest_usage = hourly_usage_2006_christmas['Global_active_power'].idxmax().time()\n",
      "print(f'The hour with the highest power usage on Christmas 2006 was {hour_with_highest_usage.strftime(\"%H:%M\")}')\n",
      "```\n",
      "\n",
      "In this code:\n",
      "\n",
      "1.  We first select the data for Christmas 2006 by using the `between_time` method to get the datetime range from June 24th, 06:00 to June 24th, 23:00.\n",
      "2.  We then group the data by hour using the `groupby` method and calculate the mean power usage for each hour using the `mean` method.\n",
      "3.  Finally, we find the hour with the highest power usage using the `idxmax` method, which returns the index of the maximum value.\n",
      "\n",
      "Note that the `time()` method is used to get the hour and minute from the datetime object, and the `strftime` method is used to format the output as a string.\n"
     ]
    }
   ],
   "execution_count": 26
  },
  {
   "metadata": {
    "ExecuteTime": {
     "end_time": "2025-06-09T11:22:15.752365Z",
     "start_time": "2025-06-09T11:22:15.461483Z"
    }
   },
   "cell_type": "code",
   "source": [
    "import pandas as pd\n",
    "\n",
    "# assuming df is the DataFrame with a datetime index and 'Global_active_power' columnGenerated Code:\n",
    " ```python\n",
    "# convert the datetime index to a pandas PeriodIndex for easier date-based filtering\n",
    "df = df.copy()  # create a copy of the DataFrame to avoid modifying the original data\n",
    "\n",
    "# set the frequency of the datetime index to 'H' for hourly frequency\n",
    "# (this is necessary for the period_range function to work correctly)\n",
    "\n",
    "# filter the DataFrame to include only data from December 25, 2006\n",
    "christmas_2006 = pd.date_range('2006-12-25', periods=1, freq='H')\n",
    "\n",
    "if pd.Timestamp('2006-12-25').hour == 0:\n",
    "    # if it's midnight, we want to consider data up to the last hour of December 24\n",
    "    end_date = pd.date_range('2006-12-24', periods=24, freq='H')\n",
    "else:\n",
    "    end_date = pd.date_range('2006-12-25', periods=24, freq='H')\n",
    "\n",
    "filtered_df = df.loc[end_date.union(christmas_2006)].copy()  # copy the filtered DataFrame\n",
    "\n",
    "# find the hour of the day with the highest power usage on Christmas 2006\n",
    "hourly_mean_power = filtered_df.groupby(filtered_df.index.hour)['Global_active_power'].mean()\n",
    "\n",
    "max_hour = hourly_mean_power.idxmax()  # get the hour with the highest mean power usage\n",
    "max_power = hourly_mean_power.max()  # get the highest mean power usage\n",
    "\n",
    "print(f\"The highest power usage on Christmas 2006 occurred at hour {max_hour} with a mean power usage of {max_power} W.\")"
   ],
   "id": "a81877a456523203",
   "outputs": [
    {
     "name": "stdout",
     "output_type": "stream",
     "text": [
      "The highest power usage on Christmas 2006 occurred at hour 13 with a mean power usage of 5.368 W.\n"
     ]
    },
    {
     "name": "stderr",
     "output_type": "stream",
     "text": [
      "/tmp/ipykernel_4557/4274703122.py:11: FutureWarning: 'H' is deprecated and will be removed in a future version, please use 'h' instead.\n",
      "  christmas_2006 = pd.date_range('2006-12-25', periods=1, freq='H')\n",
      "/tmp/ipykernel_4557/4274703122.py:15: FutureWarning: 'H' is deprecated and will be removed in a future version, please use 'h' instead.\n",
      "  end_date = pd.date_range('2006-12-24', periods=24, freq='H')\n"
     ]
    }
   ],
   "execution_count": 20
  },
  {
   "metadata": {},
   "cell_type": "markdown",
   "source": "#### 3. Compare energy usage (Global_active_power) on weekdays vs weekends.",
   "id": "756f123a0370b6c2"
  },
  {
   "metadata": {
    "ExecuteTime": {
     "end_time": "2025-06-09T11:30:42.175603Z",
     "start_time": "2025-06-09T11:30:41.419621Z"
    }
   },
   "cell_type": "code",
   "source": [
    "prompt = (\n",
    "    \"Given a DataFrame `df` that contains a datetime index and a column named 'Global_active_power', \"\n",
    "    \"Compare energy usage (Global_active_power) on weekdays vs weekends.\"\n",
    ")\n",
    "\n",
    "response = llm.invoke(prompt)\n",
    "print(\"Generated Code:\\n\", response.content)"
   ],
   "id": "1454462767fd1dea",
   "outputs": [
    {
     "name": "stdout",
     "output_type": "stream",
     "text": [
      "Generated Code:\n",
      " You can achieve this by using the `isin` function in pandas to identify the weekdays and weekends, and then performing the comparison. Here's an example:\n",
      "\n",
      "```python\n",
      "import pandas as pd\n",
      "\n",
      "# assuming df is your DataFrame with datetime index and 'Global_active_power' column\n",
      "df = pd.DataFrame({\n",
      "    'Global_active_power': [100, 150, 120, 130, 140],\n",
      "    'Date': ['2022-01-03', '2022-01-04', '2022-01-05', '2022-01-06', '2022-01-07']\n",
      "}, index=pd.to_datetime(['2022-01-03', '2022-01-04', '2022-01-05', '2022-01-06', '2022-01-07']))\n",
      "\n",
      "# identify weekdays and weekends\n",
      "df['dayofweek'] = df.index.dayofweek\n",
      "weekdays = df[df['dayofweek'].isin([0, 1, 2, 3, 4])]\n",
      "weekends = df[df['dayofweek'].isin([5, 6])]\n",
      "\n",
      "# calculate average energy usage on weekdays and weekends\n",
      "avg_weekdays = weekdays['Global_active_power'].mean()\n",
      "avg_weekends = weekends['Global_active_power'].mean()\n",
      "\n",
      "print(f'Average energy usage on weekdays: {avg_weekdays:.2f}')\n",
      "print(f'Average energy usage on weekends: {avg_weekends:.2f}')\n",
      "```\n",
      "\n",
      "In this example, we first identify the day of the week for each row in the DataFrame using the `dayofweek` attribute of the datetime index. We then filter the DataFrame to get the rows corresponding to weekdays and weekends.\n",
      "\n",
      "Finally, we calculate the mean of the 'Global_active_power' column for weekdays and weekends using the `mean` method.\n",
      "\n",
      "You can also use the `dt.weekday` attribute to achieve the same result. Here's how you can do it:\n",
      "\n",
      "```python\n",
      "df['dayofweek'] = df.index.weekday\n",
      "```\n",
      "\n",
      "This will also return the day of the week as an integer, where Monday is 0 and Sunday is 6.\n"
     ]
    }
   ],
   "execution_count": 35
  },
  {
   "metadata": {
    "ExecuteTime": {
     "end_time": "2025-06-09T11:31:52.151727Z",
     "start_time": "2025-06-09T11:31:52.136449Z"
    }
   },
   "cell_type": "code",
   "source": [
    "\n",
    "import pandas as pd\n",
    "\n",
    "# assuming df is your DataFrame with datetime index and 'Global_active_power' column\n",
    "df = pd.DataFrame({\n",
    "    'Global_active_power': [100, 150, 120, 130, 140],\n",
    "    'Date': ['2022-01-03', '2022-01-04', '2022-01-05', '2022-01-06', '2022-01-07']\n",
    "}, index=pd.to_datetime(['2022-01-03', '2022-01-04', '2022-01-05', '2022-01-06', '2022-01-07']))\n",
    "\n",
    "# identify weekdays and weekends\n",
    "df['dayofweek'] = df.index.dayofweek\n",
    "weekdays = df[df['dayofweek'].isin([0, 1, 2, 3, 4])]\n",
    "weekends = df[df['dayofweek'].isin([5, 6])]\n",
    "\n",
    "# calculate average energy usage on weekdays and weekends\n",
    "avg_weekdays = weekdays['Global_active_power'].mean()\n",
    "avg_weekends = weekends['Global_active_power'].mean()\n",
    "\n",
    "print(f'Average energy usage on weekdays: {avg_weekdays:.2f}')\n",
    "print(f'Average energy usage on weekends: {avg_weekends:.2f}')\n",
    "\n",
    "df['dayofweek'] = df.index.weekday\n"
   ],
   "id": "b521b0506d2a7880",
   "outputs": [
    {
     "name": "stdout",
     "output_type": "stream",
     "text": [
      "Average energy usage on weekdays: 128.00\n",
      "Average energy usage on weekends: nan\n"
     ]
    }
   ],
   "execution_count": 37
  },
  {
   "metadata": {},
   "cell_type": "markdown",
   "source": "#### 4. Find days where energy consumption exceeded 5 kWh.\n",
   "id": "3a1cc1a3d0c8557d"
  },
  {
   "metadata": {
    "ExecuteTime": {
     "end_time": "2025-06-09T11:34:38.584261Z",
     "start_time": "2025-06-09T11:34:37.749747Z"
    }
   },
   "cell_type": "code",
   "source": [
    "prompt = (\n",
    "    \"Given a DataFrame `df` that contains a datetime index and a column named 'Global_active_power', \"\n",
    "    \"Find days where energy consumption exceeded 5 kWh.\"\n",
    ")\n",
    "\n",
    "response = llm.invoke(prompt)\n",
    "print(\"Generated Code:\\n\", response.content)"
   ],
   "id": "8cee5222a3406797",
   "outputs": [
    {
     "name": "stdout",
     "output_type": "stream",
     "text": [
      "Generated Code:\n",
      " Here is an example of how you can achieve this using pandas:\n",
      "```python\n",
      "import pandas as pd\n",
      "\n",
      "# Define a sample DataFrame\n",
      "df = pd.DataFrame({\n",
      "    'Global_active_power': [2.5, 3.2, 6.8, 1.9, 4.9, 12.9, 3.0, 5.1]\n",
      "}, index=pd.date_range('2022-01-01', periods=8, freq='D'))\n",
      "\n",
      "# Find days where energy consumption exceeded 5 kWh\n",
      "exceeded_days = df['Global_active_power'] > 5\n",
      "\n",
      "# Print the exceeded days\n",
      "print(exceeded_days[exceeded_days == True].index)\n",
      "```\n",
      "\n",
      "However, if your DataFrame has a datetime index, you can directly filter the DataFrame to get the days where energy consumption exceeded 5 kWh:\n",
      "\n",
      "```python\n",
      "import pandas as pd\n",
      "\n",
      "# Define a sample DataFrame\n",
      "index = pd.date_range('2022-01-01', periods=8, freq='D')\n",
      "df = pd.DataFrame({\n",
      "    'Global_active_power': [2.5, 3.2, 6.8, 1.9, 4.9, 12.9, 3.0, 5.1]\n",
      "}, index=index)\n",
      "\n",
      "# Find days where energy consumption exceeded 5 kWh\n",
      "exceeded_days = df[df['Global_active_power'] > 5].index\n",
      "\n",
      "# Print the exceeded days\n",
      "print(exceeded_days)\n",
      "```\n",
      "This will give you the datetime index of the days where energy consumption exceeded 5 kWh. If you want the dates in a string format, you can use the `strftime()` function:\n",
      "```python\n",
      "exceeded_days = df[df['Global_active_power'] > 5].index.strftime('%Y-%m-%d').tolist()\n",
      "print(exceeded_days)\n",
      "```\n",
      "This will print the exceeded days in the format '2022-01-01', '2022-01-06'.\n"
     ]
    }
   ],
   "execution_count": 46
  },
  {
   "metadata": {
    "ExecuteTime": {
     "end_time": "2025-06-09T11:35:24.712620Z",
     "start_time": "2025-06-09T11:35:24.694755Z"
    }
   },
   "cell_type": "code",
   "source": [
    "\n",
    "import pandas as pd\n",
    "\n",
    "# Define a sample DataFrame\n",
    "df = pd.DataFrame({\n",
    "    'Global_active_power': [2.5, 3.2, 6.8, 1.9, 4.9, 12.9, 3.0, 5.1]\n",
    "}, index=pd.date_range('2022-01-01', periods=8, freq='D'))\n",
    "\n",
    "# Find days where energy consumption exceeded 5 kWh\n",
    "exceeded_days = df['Global_active_power'] > 5\n",
    "\n",
    "# Print the exceeded days\n",
    "print(exceeded_days[exceeded_days == True].index)\n",
    "\n",
    "import pandas as pd\n",
    "\n",
    "# Define a sample DataFrame\n",
    "index = pd.date_range('2022-01-01', periods=8, freq='D')\n",
    "df = pd.DataFrame({\n",
    "    'Global_active_power': [2.5, 3.2, 6.8, 1.9, 4.9, 12.9, 3.0, 5.1]\n",
    "}, index=index)\n",
    "\n",
    "# Find days where energy consumption exceeded 5 kWh\n",
    "exceeded_days = df[df['Global_active_power'] > 5].index\n",
    "\n",
    "# Print the exceeded days\n",
    "print(exceeded_days)\n",
    "\n",
    "exceeded_days = df[df['Global_active_power'] > 5].index.strftime('%Y-%m-%d').tolist()\n",
    "print(exceeded_days)\n"
   ],
   "id": "9863e54cc34fcbeb",
   "outputs": [
    {
     "name": "stdout",
     "output_type": "stream",
     "text": [
      "DatetimeIndex(['2022-01-03', '2022-01-06', '2022-01-08'], dtype='datetime64[ns]', freq=None)\n",
      "DatetimeIndex(['2022-01-03', '2022-01-06', '2022-01-08'], dtype='datetime64[ns]', freq=None)\n",
      "['2022-01-03', '2022-01-06', '2022-01-08']\n"
     ]
    }
   ],
   "execution_count": 49
  },
  {
   "metadata": {},
   "cell_type": "markdown",
   "source": "#### 5. Plot the energy usage trend for the first week of January 2007.\n",
   "id": "a2c3c64cb0c34d6b"
  },
  {
   "metadata": {
    "ExecuteTime": {
     "end_time": "2025-06-09T11:39:59.349833Z",
     "start_time": "2025-06-09T11:39:58.736201Z"
    }
   },
   "cell_type": "code",
   "source": [
    "prompt = (\n",
    "    \"Given a DataFrame `df` that contains a datetime index\"\n",
    "    \"Plot the energy usage trend for the first week of January 2007.\"\n",
    ")\n",
    "\n",
    "response = llm.invoke(prompt)\n",
    "print(\"Generated Code:\\n\", response.content)"
   ],
   "id": "c21fa3903ed8941",
   "outputs": [
    {
     "name": "stdout",
     "output_type": "stream",
     "text": [
      "Generated Code:\n",
      " ```python\n",
      "# Import necessary libraries\n",
      "import pandas as pd\n",
      "import matplotlib.pyplot as plt\n",
      "\n",
      "# Assuming df is the DataFrame with a datetime index\n",
      "df = pd.DataFrame({\n",
      "    'Energy Usage': [100, 120, 110, 130, 140, 145, 135],\n",
      "}, index=pd.period_range('1/1/2007', periods=7, freq='D'))\n",
      "\n",
      "# Plot the energy usage trend for the first week of January 2007\n",
      "plt.figure(figsize=(10,6))\n",
      "df.plot(kind='line', legend=False, title='Energy Usage Trend in the First Week of January 2007')\n",
      "plt.xlabel('Date')\n",
      "plt.ylabel('Energy Usage')\n",
      "plt.grid(True)\n",
      "plt.show()\n",
      "\n",
      "# Alternatively, if your date is in datetime format\n",
      "# df = pd.DataFrame({\n",
      "#     'Energy Usage': [100, 120, 110, 130, 140, 145, 135],\n",
      "# }, index=pd.date_range('1/1/2007', periods=7))\n",
      "\n",
      "# Plot the energy usage trend for the first week of January 2007\n",
      "plt.figure(figsize=(10,6))\n",
      "df.plot(kind='line', legend=False, title='Energy Usage Trend in the First Week of January 2007')\n",
      "plt.xlabel('Date')\n",
      "plt.ylabel('Energy Usage')\n",
      "plt.grid(True)\n",
      "plt.show()\n",
      "```\n",
      "\n",
      "This code will create a simple line plot to display the energy usage trend for the first week of January 2007. You can customize the plot as needed to suit your specific needs. \n",
      "\n",
      "Note: Make sure your DataFrame `df` contains the data for the first week of January 2007, and the index is a datetime index (either PeriodIndex or DatetimeIndex).\n"
     ]
    }
   ],
   "execution_count": 65
  },
  {
   "metadata": {
    "ExecuteTime": {
     "end_time": "2025-06-09T11:40:11.770589Z",
     "start_time": "2025-06-09T11:40:11.527354Z"
    }
   },
   "cell_type": "code",
   "source": [
    "\n",
    "# Import necessary libraries\n",
    "import pandas as pd\n",
    "import matplotlib.pyplot as plt\n",
    "\n",
    "# Assuming df is the DataFrame with a datetime index\n",
    "df = pd.DataFrame({\n",
    "    'Energy Usage': [100, 120, 110, 130, 140, 145, 135],\n",
    "}, index=pd.period_range('1/1/2007', periods=7, freq='D'))\n",
    "\n",
    "# Plot the energy usage trend for the first week of January 2007\n",
    "plt.figure(figsize=(10,6))\n",
    "df.plot(kind='line', legend=False, title='Energy Usage Trend in the First Week of January 2007')\n",
    "plt.xlabel('Date')\n",
    "plt.ylabel('Energy Usage')\n",
    "plt.grid(True)\n",
    "plt.show()\n",
    "\n",
    "# Alternatively, if your date is in datetime format\n",
    "# df = pd.DataFrame({\n",
    "#     'Energy Usage': [100, 120, 110, 130, 140, 145, 135],\n",
    "# }, index=pd.date_range('1/1/2007', periods=7))\n",
    "\n",
    "# Plot the energy usage trend for the first week of January 2007\n",
    "plt.figure(figsize=(10,6))\n",
    "df.plot(kind='line', legend=False, title='Energy Usage Trend in the First Week of January 2007')\n",
    "plt.xlabel('Date')\n",
    "plt.ylabel('Energy Usage')\n",
    "plt.grid(True)\n",
    "plt.show()\n"
   ],
   "id": "601b68fe6b4ce419",
   "outputs": [
    {
     "data": {
      "text/plain": [
       "<Figure size 1000x600 with 0 Axes>"
      ]
     },
     "metadata": {},
     "output_type": "display_data"
    },
    {
     "data": {
      "text/plain": [
       "<Figure size 640x480 with 1 Axes>"
      ],
      "image/png": "[encoded data removed]"
     },
     "metadata": {},
     "output_type": "display_data"
    },
    {
     "data": {
      "text/plain": [
       "<Figure size 1000x600 with 0 Axes>"
      ]
     },
     "metadata": {},
     "output_type": "display_data"
    },
    {
     "data": {
      "text/plain": [
       "<Figure size 640x480 with 1 Axes>"
      ],
      "image/png": "[encoded data removed]"
     },
     "metadata": {},
     "output_type": "display_data"
    }
   ],
   "execution_count": 66
  },
  {
   "metadata": {},
   "cell_type": "markdown",
   "source": "#### 6. Find the average voltage for each day of the first week of February 2007.",
   "id": "ce7037411d680117"
  },
  {
   "metadata": {
    "ExecuteTime": {
     "end_time": "2025-06-09T11:52:29.889336Z",
     "start_time": "2025-06-09T11:52:29.367302Z"
    }
   },
   "cell_type": "code",
   "source": [
    "prompt = (\n",
    "    \"Given a DataFrame `df` that contains a datetime index nd a column named 'Voltage',\"\n",
    "    \"Find the average voltage for each day of the first week of February 2007.\"\n",
    ")\n",
    "\n",
    "response = llm.invoke(prompt)\n",
    "print(\"Generated Code:\\n\", response.content)"
   ],
   "id": "4c48da1aae3dc2b1",
   "outputs": [
    {
     "name": "stdout",
     "output_type": "stream",
     "text": [
      "Generated Code:\n",
      " ```python\n",
      "import pandas as pd\n",
      "\n",
      "# Assuming df is your DataFrame\n",
      "\n",
      "# Set the index as the datetime index\n",
      "df.index = pd.to_datetime(df.index)\n",
      "\n",
      "# Get the first week of February 2007\n",
      "first_week = df[(df.index >= '2007-02-01') & (df.index <= '2007-02-07')]\n",
      "\n",
      "# Group by date (day) and calculate the average voltage\n",
      "avg_voltages = first_week.groupby(first_week.index.date)['Voltage'].mean().reset_index()\n",
      "\n",
      "# Rename the columns\n",
      "avg_voltages = avg_voltages.rename(columns={'Voltage': 'Average Voltage'})\n",
      "\n",
      "print(avg_voltages)\n",
      "```\n",
      "\n",
      "In this code:\n",
      "\n",
      "1. We set the index of the DataFrame as the datetime index using `pd.to_datetime`.\n",
      "2. We get the first week of February 2007 by filtering the DataFrame.\n",
      "3. We group the filtered DataFrame by date (day) using `groupby`.\n",
      "4. We calculate the average voltage for each group using `mean`.\n",
      "5. We reset the index to get a new DataFrame with separate columns for date and average voltage.\n",
      "6. Finally, we rename the columns to make it easier to understand.\n",
      "\n",
      "Note that this code assumes that the 'Voltage' column is of a numeric type. If it's not, you may need to cast it to a numeric type before calculating the average.\n"
     ]
    }
   ],
   "execution_count": 81
  },
  {
   "metadata": {
    "ExecuteTime": {
     "end_time": "2025-06-09T11:52:44.924635Z",
     "start_time": "2025-06-09T11:52:44.842379Z"
    }
   },
   "cell_type": "code",
   "source": [
    "\n",
    "import pandas as pd\n",
    "\n",
    "# Assuming df is your DataFrame\n",
    "\n",
    "# Set the index as the datetime index\n",
    "df.index = pd.to_datetime(df.index)\n",
    "\n",
    "# Get the first week of February 2007\n",
    "first_week = df[(df.index >= '2007-02-01') & (df.index <= '2007-02-07')]\n",
    "\n",
    "# Group by date (day) and calculate the average voltage\n",
    "avg_voltages = first_week.groupby(first_week.index.date)['Voltage'].mean().reset_index()\n",
    "\n",
    "# Rename the columns\n",
    "avg_voltages = avg_voltages.rename(columns={'Voltage': 'Average Voltage'})\n",
    "\n",
    "print(avg_voltages)\n"
   ],
   "id": "c4072f0533845c9f",
   "outputs": [
    {
     "ename": "TypeError",
     "evalue": "Passing PeriodDtype data is invalid. Use `data.to_timestamp()` instead",
     "output_type": "error",
     "traceback": [
      "\u001B[0;31m---------------------------------------------------------------------------\u001B[0m",
      "\u001B[0;31mTypeError\u001B[0m                                 Traceback (most recent call last)",
      "Cell \u001B[0;32mIn[83], line 6\u001B[0m\n\u001B[1;32m      1\u001B[0m \u001B[38;5;28;01mimport\u001B[39;00m\u001B[38;5;250m \u001B[39m\u001B[38;5;21;01mpandas\u001B[39;00m\u001B[38;5;250m \u001B[39m\u001B[38;5;28;01mas\u001B[39;00m\u001B[38;5;250m \u001B[39m\u001B[38;5;21;01mpd\u001B[39;00m\n\u001B[1;32m      3\u001B[0m \u001B[38;5;66;03m# Assuming df is your DataFrame\u001B[39;00m\n\u001B[1;32m      4\u001B[0m \n\u001B[1;32m      5\u001B[0m \u001B[38;5;66;03m# Set the index as the datetime index\u001B[39;00m\n\u001B[0;32m----> 6\u001B[0m df\u001B[38;5;241m.\u001B[39mindex \u001B[38;5;241m=\u001B[39m pd\u001B[38;5;241m.\u001B[39mto_datetime(df\u001B[38;5;241m.\u001B[39mindex)\n\u001B[1;32m      8\u001B[0m \u001B[38;5;66;03m# Get the first week of February 2007\u001B[39;00m\n\u001B[1;32m      9\u001B[0m first_week \u001B[38;5;241m=\u001B[39m df[(df\u001B[38;5;241m.\u001B[39mindex \u001B[38;5;241m>\u001B[39m\u001B[38;5;241m=\u001B[39m \u001B[38;5;124m'\u001B[39m\u001B[38;5;124m2007-02-01\u001B[39m\u001B[38;5;124m'\u001B[39m) \u001B[38;5;241m&\u001B[39m (df\u001B[38;5;241m.\u001B[39mindex \u001B[38;5;241m<\u001B[39m\u001B[38;5;241m=\u001B[39m \u001B[38;5;124m'\u001B[39m\u001B[38;5;124m2007-02-07\u001B[39m\u001B[38;5;124m'\u001B[39m)]\n",
      "File \u001B[0;32m~/anaconda3/lib/python3.12/site-packages/pandas/core/tools/datetimes.py:1076\u001B[0m, in \u001B[0;36mto_datetime\u001B[0;34m(arg, errors, dayfirst, yearfirst, utc, format, exact, unit, infer_datetime_format, origin, cache)\u001B[0m\n\u001B[1;32m   1074\u001B[0m         result \u001B[38;5;241m=\u001B[39m _convert_and_box_cache(arg, cache_array, name\u001B[38;5;241m=\u001B[39marg\u001B[38;5;241m.\u001B[39mname)\n\u001B[1;32m   1075\u001B[0m     \u001B[38;5;28;01melse\u001B[39;00m:\n\u001B[0;32m-> 1076\u001B[0m         result \u001B[38;5;241m=\u001B[39m convert_listlike(arg, \u001B[38;5;28mformat\u001B[39m, name\u001B[38;5;241m=\u001B[39marg\u001B[38;5;241m.\u001B[39mname)\n\u001B[1;32m   1077\u001B[0m \u001B[38;5;28;01melif\u001B[39;00m is_list_like(arg):\n\u001B[1;32m   1078\u001B[0m     \u001B[38;5;28;01mtry\u001B[39;00m:\n\u001B[1;32m   1079\u001B[0m         \u001B[38;5;66;03m# error: Argument 1 to \"_maybe_cache\" has incompatible type\u001B[39;00m\n\u001B[1;32m   1080\u001B[0m         \u001B[38;5;66;03m# \"Union[float, str, datetime, List[Any], Tuple[Any, ...], ExtensionArray,\u001B[39;00m\n\u001B[1;32m   1081\u001B[0m         \u001B[38;5;66;03m# ndarray[Any, Any], Series]\"; expected \"Union[List[Any], Tuple[Any, ...],\u001B[39;00m\n\u001B[1;32m   1082\u001B[0m         \u001B[38;5;66;03m# Union[Union[ExtensionArray, ndarray[Any, Any]], Index, Series], Series]\"\u001B[39;00m\n",
      "File \u001B[0;32m~/anaconda3/lib/python3.12/site-packages/pandas/core/tools/datetimes.py:416\u001B[0m, in \u001B[0;36m_convert_listlike_datetimes\u001B[0;34m(arg, format, name, utc, unit, errors, dayfirst, yearfirst, exact)\u001B[0m\n\u001B[1;32m    413\u001B[0m \u001B[38;5;66;03m# warn if passing timedelta64, raise for PeriodDtype\u001B[39;00m\n\u001B[1;32m    414\u001B[0m \u001B[38;5;66;03m# NB: this must come after unit transformation\u001B[39;00m\n\u001B[1;32m    415\u001B[0m \u001B[38;5;28;01mtry\u001B[39;00m:\n\u001B[0;32m--> 416\u001B[0m     arg, _ \u001B[38;5;241m=\u001B[39m maybe_convert_dtype(arg, copy\u001B[38;5;241m=\u001B[39m\u001B[38;5;28;01mFalse\u001B[39;00m, tz\u001B[38;5;241m=\u001B[39mlibtimezones\u001B[38;5;241m.\u001B[39mmaybe_get_tz(tz))\n\u001B[1;32m    417\u001B[0m \u001B[38;5;28;01mexcept\u001B[39;00m \u001B[38;5;167;01mTypeError\u001B[39;00m:\n\u001B[1;32m    418\u001B[0m     \u001B[38;5;28;01mif\u001B[39;00m errors \u001B[38;5;241m==\u001B[39m \u001B[38;5;124m\"\u001B[39m\u001B[38;5;124mcoerce\u001B[39m\u001B[38;5;124m\"\u001B[39m:\n",
      "File \u001B[0;32m~/anaconda3/lib/python3.12/site-packages/pandas/core/arrays/datetimes.py:2466\u001B[0m, in \u001B[0;36mmaybe_convert_dtype\u001B[0;34m(data, copy, tz)\u001B[0m\n\u001B[1;32m   2462\u001B[0m     \u001B[38;5;28;01mraise\u001B[39;00m \u001B[38;5;167;01mTypeError\u001B[39;00m(\u001B[38;5;124mf\u001B[39m\u001B[38;5;124m\"\u001B[39m\u001B[38;5;124mdtype \u001B[39m\u001B[38;5;132;01m{\u001B[39;00mdata\u001B[38;5;241m.\u001B[39mdtype\u001B[38;5;132;01m}\u001B[39;00m\u001B[38;5;124m cannot be converted to datetime64[ns]\u001B[39m\u001B[38;5;124m\"\u001B[39m)\n\u001B[1;32m   2463\u001B[0m \u001B[38;5;28;01melif\u001B[39;00m \u001B[38;5;28misinstance\u001B[39m(data\u001B[38;5;241m.\u001B[39mdtype, PeriodDtype):\n\u001B[1;32m   2464\u001B[0m     \u001B[38;5;66;03m# Note: without explicitly raising here, PeriodIndex\u001B[39;00m\n\u001B[1;32m   2465\u001B[0m     \u001B[38;5;66;03m#  test_setops.test_join_does_not_recur fails\u001B[39;00m\n\u001B[0;32m-> 2466\u001B[0m     \u001B[38;5;28;01mraise\u001B[39;00m \u001B[38;5;167;01mTypeError\u001B[39;00m(\n\u001B[1;32m   2467\u001B[0m         \u001B[38;5;124m\"\u001B[39m\u001B[38;5;124mPassing PeriodDtype data is invalid. Use `data.to_timestamp()` instead\u001B[39m\u001B[38;5;124m\"\u001B[39m\n\u001B[1;32m   2468\u001B[0m     )\n\u001B[1;32m   2470\u001B[0m \u001B[38;5;28;01melif\u001B[39;00m \u001B[38;5;28misinstance\u001B[39m(data\u001B[38;5;241m.\u001B[39mdtype, ExtensionDtype) \u001B[38;5;129;01mand\u001B[39;00m \u001B[38;5;129;01mnot\u001B[39;00m \u001B[38;5;28misinstance\u001B[39m(\n\u001B[1;32m   2471\u001B[0m     data\u001B[38;5;241m.\u001B[39mdtype, DatetimeTZDtype\n\u001B[1;32m   2472\u001B[0m ):\n\u001B[1;32m   2473\u001B[0m     \u001B[38;5;66;03m# TODO: We have no tests for these\u001B[39;00m\n\u001B[1;32m   2474\u001B[0m     data \u001B[38;5;241m=\u001B[39m np\u001B[38;5;241m.\u001B[39marray(data, dtype\u001B[38;5;241m=\u001B[39mnp\u001B[38;5;241m.\u001B[39mobject_)\n",
      "\u001B[0;31mTypeError\u001B[0m: Passing PeriodDtype data is invalid. Use `data.to_timestamp()` instead"
     ]
    }
   ],
   "execution_count": 83
  },
  {
   "metadata": {},
   "cell_type": "markdown",
   "source": "#### 7. What is the correlation between global active power and sub-metering values?",
   "id": "8a0b03ee81d1ff38"
  },
  {
   "metadata": {
    "ExecuteTime": {
     "end_time": "2025-06-09T12:01:53.429053Z",
     "start_time": "2025-06-09T12:01:52.355936Z"
    }
   },
   "cell_type": "code",
   "source": [
    "prompt = (\n",
    "    \"Given a DataFrame `df` that contains a datetime index nd a column named 'Voltage',\"\n",
    "    \"What is the correlation between global active power and sub-metering values?\"\n",
    ")\n",
    "\n",
    "response = llm.invoke(prompt)\n",
    "print(\"Generated Code:\\n\", response.content)"
   ],
   "id": "9cf56641855d8d67",
   "outputs": [
    {
     "name": "stdout",
     "output_type": "stream",
     "text": [
      "Generated Code:\n",
      " To calculate the correlation between the 'Voltage' column and other columns in the DataFrame `df`, we can use the `corr` method provided by pandas. However, we need to understand that the correlation is a measure of the linear relationship between two variables. If you want to find the correlation between 'Voltage' and other columns that represent global active power and sub-metering values, you need to make sure these columns exist in your DataFrame.\n",
      "\n",
      "Here's an example code snippet:\n",
      "\n",
      "```python\n",
      "import pandas as pd\n",
      "import matplotlib.pyplot as plt\n",
      "\n",
      "# assume 'df' is your DataFrame\n",
      "# assume 'df' has a datetime index and a column named 'Voltage' and other columns like 'Appliance1', 'Appliance2' etc representing sub-metering values and 'Global' representing global active power\n",
      "\n",
      "# check the columns in your DataFrame\n",
      "print(df.columns)\n",
      "\n",
      "# calculate correlation between 'Voltage' and other columns\n",
      "correlation = df['Voltage'].corr(df['Global'])  # correlation with global active power\n",
      "correlation_submetering = df['Voltage'].corr(df[['Appliance1', 'Appliance2', 'Appliance3']])  # correlation with sub-metering values\n",
      "# or, you can do a correlation matrix to see how 'Voltage' is correlated with all the other columns\n",
      "corr_coef = df.corr(numeric_only=True)['Voltage'].drop('Voltage')\n",
      "\n",
      "# print the correlations\n",
      "print(\"Correlation between 'Voltage' and 'Global':\", correlation)\n",
      "print(\"Correlation between 'Voltage' and sub-metering values (Appliance1, Appliance2, Appliance3):\", correlation_submetering)\n",
      "print(\"Correlation matrix between 'Voltage' and other columns:\\n\", corr_coef)\n",
      "```\n",
      "\n",
      "In this example, I assume that you have a DataFrame `df` with the following structure:\n",
      "\n",
      "- `df.index` is a datetime index.\n",
      "- `df.columns` include 'Voltage', 'Global', 'Appliance1', 'Appliance2', 'Appliance3', etc.\n",
      "\n",
      "The output will be a correlation coefficient value between -1 and 1 for 'Voltage' and global active power and sub-metering values.\n",
      "\n",
      "Please replace the column names 'Global', 'Appliance1', 'Appliance2', 'Appliance3' with the actual column names representing global active power and sub-metering values in your DataFrame.\n"
     ]
    }
   ],
   "execution_count": 99
  },
  {
   "metadata": {
    "ExecuteTime": {
     "end_time": "2025-06-09T12:01:33.357678Z",
     "start_time": "2025-06-09T12:01:33.342162Z"
    }
   },
   "cell_type": "code",
   "source": [
    "\n",
    "import pandas as pd\n",
    "import numpy as np\n",
    "\n",
    "# assuming df is the DataFrame\n",
    "df = pd.DataFrame({\n",
    "    'Date': pd.date_range('2022-01-01', periods=365),\n",
    "    'Voltage': np.random.rand(365),\n",
    "    'Global_active_power': np.random.rand(365),\n",
    "    'Active Power': np.random.rand(365),\n",
    "    'Sub Meter 1': np.random.rand(365),\n",
    "    'Sub Meter 2': np.random.rand(365)\n",
    "})\n",
    "\n",
    "# calculate correlation matrix between 'Global_active_power' and each 'Sub Meter' column\n",
    "corr_matrix = df[['Global_active_power', 'Sub Meter 1', 'Sub Meter 2']].corr()\n",
    "\n",
    "print(corr_matrix.loc['Global_active_power']['Sub Meter 1'], corr_matrix.loc['Global_active_power']['Sub Meter 2'])\n",
    "\n",
    "# calculate correlation between 'Global_active_power' and each 'Sub Meter' column\n",
    "for col in df.columns[3:]:\n",
    "    if 'Sub Meter' in col:\n",
    "        corr_value = df[['Global_active_power', col]].corr().loc['Global_active_power', col]\n",
    "        print(f'Correlation between Global_active_power and {col}: {corr_value:.4f}')\n"
   ],
   "id": "8ee5c9a107915123",
   "outputs": [
    {
     "name": "stdout",
     "output_type": "stream",
     "text": [
      "-0.015136802056263981 0.08365736786195246\n",
      "Correlation between Global_active_power and Sub Meter 1: -0.0151\n",
      "Correlation between Global_active_power and Sub Meter 2: 0.0837\n"
     ]
    }
   ],
   "execution_count": 98
  },
  {
   "metadata": {},
   "cell_type": "code",
   "outputs": [],
   "execution_count": null,
   "source": "",
   "id": "548a4b9898898946"
  }
 ],
 "metadata": {
  "kernelspec": {
   "display_name": "Python 3",
   "language": "python",
   "name": "python3"
  },
  "language_info": {
   "codemirror_mode": {
    "name": "ipython",
    "version": 2
   },
   "file_extension": ".py",
   "mimetype": "text/x-python",
   "name": "python",
   "nbconvert_exporter": "python",
   "pygments_lexer": "ipython2",
   "version": "2.7.6"
  }
 },
 "nbformat": 4,
 "nbformat_minor": 5
}
